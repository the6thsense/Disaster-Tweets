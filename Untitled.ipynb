{
 "cells": [
  {
   "cell_type": "code",
   "execution_count": 1,
   "metadata": {},
   "outputs": [
    {
     "ename": "ModuleNotFoundError",
     "evalue": "No module named 'pytorch_model_summary'",
     "output_type": "error",
     "traceback": [
      "\u001b[0;31m---------------------------------------------------------------------------\u001b[0m",
      "\u001b[0;31mModuleNotFoundError\u001b[0m                       Traceback (most recent call last)",
      "\u001b[0;32m<ipython-input-1-0d62b591d067>\u001b[0m in \u001b[0;36m<module>\u001b[0;34m\u001b[0m\n\u001b[1;32m      1\u001b[0m \u001b[0;31m#!pip3 install pytorch-model-summary\u001b[0m\u001b[0;34m\u001b[0m\u001b[0;34m\u001b[0m\u001b[0;34m\u001b[0m\u001b[0m\n\u001b[0;32m----> 2\u001b[0;31m \u001b[0;32mfrom\u001b[0m \u001b[0mpytorch_model_summary\u001b[0m \u001b[0;32mimport\u001b[0m \u001b[0msummary\u001b[0m\u001b[0;34m\u001b[0m\u001b[0;34m\u001b[0m\u001b[0m\n\u001b[0m",
      "\u001b[0;31mModuleNotFoundError\u001b[0m: No module named 'pytorch_model_summary'"
     ]
    }
   ],
   "source": [
    "#!pip3 install pytorch-model-summary\n",
    "from pytorch_model_summary import summary"
   ]
  },
  {
   "cell_type": "code",
   "execution_count": 2,
   "metadata": {
    "scrolled": true
   },
   "outputs": [
    {
     "name": "stderr",
     "output_type": "stream",
     "text": [
      "In /home/sanchit/.local/lib/python3.6/site-packages/matplotlib/mpl-data/stylelib/_classic_test.mplstyle: \n",
      "The text.latex.preview rcparam was deprecated in Matplotlib 3.3 and will be removed two minor releases later.\n",
      "In /home/sanchit/.local/lib/python3.6/site-packages/matplotlib/mpl-data/stylelib/_classic_test.mplstyle: \n",
      "The mathtext.fallback_to_cm rcparam was deprecated in Matplotlib 3.3 and will be removed two minor releases later.\n",
      "In /home/sanchit/.local/lib/python3.6/site-packages/matplotlib/mpl-data/stylelib/_classic_test.mplstyle: Support for setting the 'mathtext.fallback_to_cm' rcParam is deprecated since 3.3 and will be removed two minor releases later; use 'mathtext.fallback : 'cm' instead.\n",
      "In /home/sanchit/.local/lib/python3.6/site-packages/matplotlib/mpl-data/stylelib/_classic_test.mplstyle: \n",
      "The validate_bool_maybe_none function was deprecated in Matplotlib 3.3 and will be removed two minor releases later.\n",
      "In /home/sanchit/.local/lib/python3.6/site-packages/matplotlib/mpl-data/stylelib/_classic_test.mplstyle: \n",
      "The savefig.jpeg_quality rcparam was deprecated in Matplotlib 3.3 and will be removed two minor releases later.\n",
      "In /home/sanchit/.local/lib/python3.6/site-packages/matplotlib/mpl-data/stylelib/_classic_test.mplstyle: \n",
      "The keymap.all_axes rcparam was deprecated in Matplotlib 3.3 and will be removed two minor releases later.\n",
      "In /home/sanchit/.local/lib/python3.6/site-packages/matplotlib/mpl-data/stylelib/_classic_test.mplstyle: \n",
      "The animation.avconv_path rcparam was deprecated in Matplotlib 3.3 and will be removed two minor releases later.\n",
      "In /home/sanchit/.local/lib/python3.6/site-packages/matplotlib/mpl-data/stylelib/_classic_test.mplstyle: \n",
      "The animation.avconv_args rcparam was deprecated in Matplotlib 3.3 and will be removed two minor releases later.\n"
     ]
    }
   ],
   "source": [
    "import torch\n",
    "from torch import nn\n",
    "import torch.optim\n",
    "import random\n",
    "import matplotlib.pyplot as plt"
   ]
  },
  {
   "cell_type": "code",
   "execution_count": 3,
   "metadata": {},
   "outputs": [
    {
     "name": "stderr",
     "output_type": "stream",
     "text": [
      "unable to import 'smart_open.gcs', disabling that module\n"
     ]
    }
   ],
   "source": [
    "import pandas as pd\n",
    "import re\n",
    "import nltk\n",
    "from textblob import TextBlob\n",
    "import gensim\n",
    "from gensim.models import KeyedVectors\n",
    "import numpy as np\n",
    "import unicodedata"
   ]
  },
  {
   "cell_type": "code",
   "execution_count": null,
   "metadata": {},
   "outputs": [],
   "source": []
  },
  {
   "cell_type": "code",
   "execution_count": 4,
   "metadata": {},
   "outputs": [],
   "source": [
    "cList = {\n",
    "  \"ain't\": \"am not\",\n",
    "  \"aren't\": \"are not\",\n",
    "  \"can't\": \"cannot\",\n",
    "  \"can't've\": \"cannot have\",\n",
    "  \"'cause\": \"because\",\n",
    "  \"could've\": \"could have\",\n",
    "  \"couldn't\": \"could not\",\n",
    "  \"couldn't've\": \"could not have\",\n",
    "  \"didn't\": \"did not\",\n",
    "  \"doesn't\": \"does not\",\n",
    "  \"don't\": \"do not\",\n",
    "  \"hadn't\": \"had not\",\n",
    "  \"hadn't've\": \"had not have\",\n",
    "  \"hasn't\": \"has not\",\n",
    "  \"haven't\": \"have not\",\n",
    "  \"he'd\": \"he would\",\n",
    "  \"he'd've\": \"he would have\",\n",
    "  \"he'll\": \"he will\",\n",
    "  \"he'll've\": \"he will have\",\n",
    "  \"he's\": \"he is\",\n",
    "  \"how'd\": \"how did\",\n",
    "  \"how'd'y\": \"how do you\",\n",
    "  \"how'll\": \"how will\",\n",
    "  \"how's\": \"how is\",\n",
    "  \"I'd\": \"I would\",\n",
    "  \"I'd've\": \"I would have\",\n",
    "  \"I'll\": \"I will\",\n",
    "  \"i'll\": \"i will\",\n",
    "  \"I'll've\": \"I will have\",\n",
    "  \"i'll've\": \"i will have\",\n",
    "  \"I'm\": \"I am\",\n",
    "  \"i'm\": \"i am\",\n",
    "  \"I've\": \"I have\",\n",
    "  \"i've\": \"i have\",\n",
    "  \"isn't\": \"is not\",\n",
    "  \"it'd\": \"it had\",\n",
    "  \"it'd've\": \"it would have\",\n",
    "  \"it'll\": \"it will\",\n",
    "  \"it'll've\": \"it will have\",\n",
    "  \"it's\": \"it is\",\n",
    "  \"let's\": \"let us\",\n",
    "  \"ma'am\": \"madam\",\n",
    "  \"mayn't\": \"may not\",\n",
    "  \"might've\": \"might have\",\n",
    "  \"mightn't\": \"might not\",\n",
    "  \"mightn't've\": \"might not have\",\n",
    "  \"must've\": \"must have\",\n",
    "  \"mustn't\": \"must not\",\n",
    "  \"mustn't've\": \"must not have\",\n",
    "  \"needn't\": \"need not\",\n",
    "  \"needn't've\": \"need not have\",\n",
    "  \"o'clock\": \"of the clock\",\n",
    "  \"oughtn't\": \"ought not\",\n",
    "  \"oughtn't've\": \"ought not have\",\n",
    "  \"shan't\": \"shall not\",\n",
    "  \"sha'n't\": \"shall not\",\n",
    "  \"shan't've\": \"shall not have\",\n",
    "  \"she'd\": \"she would\",\n",
    "  \"she'd've\": \"she would have\",\n",
    "  \"she'll\": \"she will\",\n",
    "  \"she'll've\": \"she will have\",\n",
    "  \"she's\": \"she is\",\n",
    "  \"should've\": \"should have\",\n",
    "  \"shouldn't\": \"should not\",\n",
    "  \"shouldn't've\": \"should not have\",\n",
    "  \"so've\": \"so have\",\n",
    "  \"so's\": \"so is\",\n",
    "  \"that'd\": \"that would\",\n",
    "  \"that'd've\": \"that would have\",\n",
    "  \"that's\": \"that is\",\n",
    "  \"there'd\": \"there had\",\n",
    "  \"there'd've\": \"there would have\",\n",
    "  \"there's\": \"there is\",\n",
    "  \"they'd\": \"they would\",\n",
    "  \"they'd've\": \"they would have\",\n",
    "  \"they'll\": \"they will\",\n",
    "  \"they'll've\": \"they will have\",\n",
    "  \"they're\": \"they are\",\n",
    "  \"they've\": \"they have\",\n",
    "  \"to've\": \"to have\",\n",
    "  \"wasn't\": \"was not\",\n",
    "  \"we'd\": \"we had\",\n",
    "  \"we'd've\": \"we would have\",\n",
    "  \"we'll\": \"we will\",\n",
    "  \"we'll've\": \"we will have\",\n",
    "  \"we're\": \"we are\",\n",
    "  \"we've\": \"we have\",\n",
    "  \"weren't\": \"were not\",\n",
    "  \"what'll\": \"what will\",\n",
    "  \"what'll've\": \"what will have\",\n",
    "  \"what're\": \"what are\",\n",
    "  \"what's\": \"what is\",\n",
    "  \"what've\": \"what have\",\n",
    "  \"when's\": \"when is\",\n",
    "  \"when've\": \"when have\",\n",
    "  \"where'd\": \"where did\",\n",
    "  \"where's\": \"where is\",\n",
    "  \"where've\": \"where have\",\n",
    "  \"who'll\": \"who will\",\n",
    "  \"who'll've\": \"who will have\",\n",
    "  \"who's\": \"who is\",\n",
    "  \"who've\": \"who have\",\n",
    "  \"why's\": \"why is\",\n",
    "  \"why've\": \"why have\",\n",
    "  \"will've\": \"will have\",\n",
    "  \"won't\": \"will not\",\n",
    "  \"won't've\": \"will not have\",\n",
    "  \"would've\": \"would have\",\n",
    "  \"wouldn't\": \"would not\",\n",
    "  \"wouldn't've\": \"would not have\",\n",
    "  \"y'all\": \"you all\",\n",
    "  \"y'alls\": \"you alls\",\n",
    "  \"y'all'd\": \"you all would\",\n",
    "  \"y'all'd've\": \"you all would have\",\n",
    "  \"y'all're\": \"you all are\",\n",
    "  \"y'all've\": \"you all have\",\n",
    "  \"you'd\": \"you had\",\n",
    "  \"you'd've\": \"you would have\",\n",
    "  \"you'll\": \"you you will\",\n",
    "  \"you'll've\": \"you you will have\",\n",
    "  \"you're\": \"you are\",\n",
    "  \"you've\": \"you have\"\n",
    "}\n",
    "\n",
    "c_re = re.compile('(%s)' % '|'.join(cList.keys()))\n"
   ]
  },
  {
   "cell_type": "code",
   "execution_count": 57,
   "metadata": {},
   "outputs": [],
   "source": [
    "train_data = pd.read_csv( r'./data/train.csv')\n",
    "embed = {}\n",
    "with open('/home/sanchit/vector_embeddings/glove.6B.50d.txt') as f: \n",
    "        for line in f:\n",
    "            values = line.split()\n",
    "            word = values[0]\n",
    "            embed[word] = np.asarray(values[1:], dtype='float32')"
   ]
  },
  {
   "cell_type": "code",
   "execution_count": null,
   "metadata": {},
   "outputs": [],
   "source": []
  },
  {
   "cell_type": "code",
   "execution_count": 5,
   "metadata": {},
   "outputs": [],
   "source": [
    "#lemmatized\n",
    "\n",
    "def lemmatize_with_postag(sentence):\n",
    "    sent = TextBlob(sentence)\n",
    "    tag_dict = {\"J\": 'a', \"N\": 'n', \"V\": 'v', \"R\": 'r'}\n",
    "    words_and_tags = [(w, tag_dict.get(pos[0], 'n')) for w, pos in sent.tags]    \n",
    "    lemmatized_list = [wd.lemmatize(tag) for wd, tag in words_and_tags]\n",
    "    \n",
    "    return \" \".join(lemmatized_list)"
   ]
  },
  {
   "cell_type": "code",
   "execution_count": 46,
   "metadata": {},
   "outputs": [],
   "source": [
    "#using 2500 examples to extract frequently occuring phrases and sentences\n",
    "from collections import defaultdict, Counter\n",
    "import codecs\n",
    "\n",
    "alphabets = \"([A-Za-z])\"\n",
    "prefixes = r\"\\b(Mr|St|Mrs|Ms|Dr|mr|MR|MRS|mrs|dr|DR|Rs|rs|RS)[.]\"\n",
    "suffixes = r\"\\b(Inc|Ltd|Jr|Sr|Co|co|ltd|LTD|CO|jr|sr|inc|INC|JR|SR)\"\n",
    "starters = \"(Mr|Mrs|Ms|Dr|mr|MR|MRS|mrs|dr|DR|He\\s|She\\s|It\\s|They\\s|Their\\s|Our\\s|We\\s|But\\s|However\\s|That\\s|This\\s|Wherever)\"\n",
    "acronyms = \"([A-Z][.][A-Z][.](?:[A-Z][.])?)\"\n",
    "websites = r\"[.](com|net|org|io|gov)\\b\"\n",
    "\n",
    "stopWords = list(set(nltk.corpus.stopwords.words('english')))\n",
    "\n",
    "def split_into_sentences(text):\n",
    "    text = \" \" + text + \"  \"\n",
    "    text = re.sub(prefixes, \"\\\\1<prd>\", text)\n",
    "    text = re.sub(websites, \"<prd>\\\\1\", text)\n",
    "    if \"Ph.D\" in text: text = text.replace(\"Ph.D.\", \"Ph<prd>D<prd>\")\n",
    "    text = re.sub(\"\\s\" + alphabets + \"[.] \", \" \\\\1<prd> \", text)\n",
    "    text = re.sub(acronyms + \" \" + starters, \"\\\\1<stop> \\\\2\", text)\n",
    "    text = re.sub(alphabets + \"[.]\" + alphabets + \"[.]\" + alphabets + \"[.]\", \"\\\\1<prd>\\\\2<prd>\\\\3<prd>\", text)\n",
    "    text = re.sub(alphabets + \"[.]\" + alphabets + \"[.]\", \"\\\\1<prd>\\\\2<prd>\", text)\n",
    "    text = re.sub(\" \" + suffixes + \"[.] \" + starters, \" \\\\1<stop> \\\\2\", text)\n",
    "    text = re.sub(\" \" + suffixes + \"[.]\", \" \\\\1<prd>\", text)\n",
    "    text = re.sub(\" \" + alphabets + \"[.]\", \" \\\\1<prd>\", text)\n",
    "    if \"\\\"\" in text: text = text.replace(\".\\\"\", \"\\\".\")\n",
    "    if \"!\" in text: text = text.replace(\"!\\\"\", \"\\\"!\")\n",
    "    if \"?\" in text: text = text.replace(\"?\\\"\", \"\\\"?\")\n",
    "    text = text.replace(\".\", \".<stop>\")\n",
    "    text = text.replace(\"?\", \"?<stop>\")\n",
    "    text = text.replace(\"!\", \"!<stop>\")\n",
    "    text = text.replace(\"<prd>\", \".\")\n",
    "    sentences = text.split(\"<stop>\")\n",
    "    sentences = [s.strip() for s in sentences]\n",
    "    return sentences\n",
    "\n",
    "\n",
    "def reg_remove_puntuation_speech(each_speech):\n",
    "    each_speech = str(each_speech)\n",
    "    each_speech = unicodedata.normalize('NFKD', each_speech).encode('ascii','ignore')\n",
    "    each_speech = str(each_speech.decode('utf-8'))\n",
    "    each_speech = each_speech.replace(\"’\", \"'\")\n",
    "    each_speech = each_speech.replace(\"…\", \" \")\n",
    "    each_speech = re.sub('\\[*?\\]\\\"\\'', '', each_speech)\n",
    "    each_speech = re.sub(\"[,?\\[\\]\\{\\}\\(\\):;<>\\\\\\/\\-_]\", \" \", each_speech)\n",
    "    nonPunctspeech = re.sub(\"[,?\\[\\]\\{\\}\\(\\)\\\":;<>],\", \" \", each_speech)\n",
    "    each_speech=each_speech.replace(\"@\", \" at \")\n",
    "    each_speech=each_speech.replace(\"#\", \" hash \")\n",
    "    each_speech=each_speech.replace(\"$\", \" dollar \")\n",
    "    each_speech=each_speech.replace(\"%\", \" percent \")\n",
    "    each_speech=each_speech.replace(\"'l \", \"l \")\n",
    "    nonPunctspeech = re.sub(\"[,?\\[\\]\\{\\}\\(\\)\\\"\\':;<>\\\\\\/\\-_]\", \"\", each_speech)\n",
    "    return nonPunctspeech\n",
    "\n",
    "def clean_text(essayText):\n",
    "    \n",
    "    essayText = essayText.lower()\n",
    "    essayText = essayText.replace(\"'\",'')\n",
    "\n",
    "    essayText = re.sub(r'\\n+','\\n', essayText)\n",
    "    essayText = re.sub(r'\\t+','\\t', essayText)\n",
    "    essayText = re.sub(r'\\.+','', essayText)\n",
    "    essayText = re.sub(r'\\?+','', essayText)\n",
    "    essayText = re.sub(r' +',' ', essayText)\n",
    "    return essayText\n",
    "\n",
    "\n",
    "def expandContractions(text, c_re=c_re):\n",
    "    def replace(match):\n",
    "        return cList[match.group(0)]\n",
    "    return c_re.sub(replace, text)\n",
    "\n",
    "def reg_clean_nos(essay):\n",
    "    nonPunctEssay = re.sub(\"[^a-zA-Z\\\\s+,.]\", \"\", essay)\n",
    "    nonPunctEssay = re.sub(\"[^a-zA-Z]\", \" \", nonPunctEssay)\n",
    "    return nonPunctEssay\n",
    "\n",
    "def ngrams( speech):\n",
    "    speech = str(speech)\n",
    "    speech = speech.encode('utf-8', 'surrogatepass').decode('utf-8')\n",
    "    speech = expandContractions( speech)\n",
    "    speech = clean_text(speech)\n",
    "    speech = reg_clean_nos(speech)\n",
    "    speech = re.sub(r'\\.+', \".\", speech)\n",
    "    speech = re.sub(\"(?<=\\d)\\:(?=\\d)\",'',speech)\n",
    "    speech = re.sub(\"(?<=\\d)\\/(?=\\d)\",'',speech)\n",
    "    speech = re.sub(\"(?<=\\d)\\.(?=\\d)\",'',speech)\n",
    "    speech = lemmatize_with_postag(speech)\n",
    "    return speech\n",
    "\n",
    "\n",
    "def splitter( speech):\n",
    "    speech = reg_remove_puntuation_speech(speech)\n",
    "    \n",
    "    sents = split_into_sentences(speech)\n",
    "    sents = [x.strip() for x in sents]\n",
    "    total_feats = []   \n",
    "\n",
    "\n",
    "    if '' in sents:\n",
    "        sents.remove('')\n",
    "        \n",
    "    for sent in sents:\n",
    "\n",
    "        sent = re.sub('\\.', '', sent)\n",
    "        total_words = nltk.word_tokenize(sent.lower())\n",
    "        vector = np.zeros( (max_words ,vector_len))\n",
    "        for i, word in enumerate(total_words):\n",
    "            if i< max_words:\n",
    "                vect = embed.get(word)\n",
    "                if vect is not None:\n",
    "                    vector[i] = vect\n",
    "    return vector\n",
    "\n",
    "def splitter_w2v( speech):\n",
    "    speech = reg_remove_puntuation_speech(speech)\n",
    "    \n",
    "    sents = split_into_sentences(speech)\n",
    "    sents = [x.strip() for x in sents]\n",
    "    total_feats = []   \n",
    "\n",
    "\n",
    "    if '' in sents:\n",
    "        sents.remove('')\n",
    "        \n",
    "    for sent in sents:\n",
    "        sent = re.sub('\\.', '', sent)\n",
    "        total_words = nltk.word_tokenize(sent.lower())\n",
    "        vector = np.zeros( (max_words ,vector_len))\n",
    "        for i, word in enumerate(total_words):\n",
    "            if i< max_words:\n",
    "                vect = embed.get(word)\n",
    "                if vect is not None:\n",
    "                    vector[i] = vect\n",
    "    return vector\n",
    "\n",
    "\n",
    "def embedSentence( speech ):\n",
    "    speech = reg_remove_puntuation_speech(speech)\n",
    "    sents = split_into_sentences(speech)\n",
    "    sents = [x.strip() for x in sents]\n",
    "    total_feats = []  \n",
    "    \n",
    "    unkn = [0.0]*50\n",
    "    eos = [-1.0]*50\n",
    "\n",
    "    if '' in sents:\n",
    "        sents.remove('')\n",
    "        \n",
    "    \n",
    "    vector = []\n",
    "    for sent in sents:\n",
    "        sent = re.sub('\\.', '', sent)\n",
    "        total_words = nltk.word_tokenize(sent.lower())\n",
    "        for i, word in enumerate(total_words):\n",
    "            vect = embed.get(word)\n",
    "            if vect is None or len(vect) < 50:\n",
    "                vector.append(unkn)\n",
    "            else:\n",
    "                vector.append(vect)\n",
    "    vector = torch.Tensor(vector)\n",
    "        \n",
    "    \n",
    "    if sents.__len__() == 0 or vector.size()[0] == 0:\n",
    "        return torch.Tensor([eos])  \n",
    "    \n",
    "    return torch.Tensor(vector)"
   ]
  },
  {
   "cell_type": "code",
   "execution_count": null,
   "metadata": {},
   "outputs": [],
   "source": []
  },
  {
   "cell_type": "code",
   "execution_count": 48,
   "metadata": {},
   "outputs": [
    {
     "name": "stdout",
     "output_type": "stream",
     "text": [
      "4342 3271\n"
     ]
    }
   ],
   "source": [
    "wrongs = train_data[train_data.target == 1].shape[0]\n",
    "rights = train_data[train_data.target == 0].shape[0]\n",
    "print(rights, wrongs)"
   ]
  },
  {
   "cell_type": "code",
   "execution_count": 49,
   "metadata": {},
   "outputs": [],
   "source": [
    "from torch.utils.data import DataLoader as dataloader\n",
    "import torch.utils.data \n",
    "from torch import nn\n",
    "\n",
    "\n",
    "def split_data( datasets, split_at = 0.3, samplers = torch.utils.data.SubsetRandomSampler , batchsize = 500 ):\n",
    "\n",
    "    indices = list(range(len( datasets)))\n",
    "    split_from = int(round(split_at*len( datasets)))\n",
    "    random.shuffle(indices)\n",
    "    \n",
    "    valid_smp  = samplers(indices[ :split_from])\n",
    "    train_smp   = samplers(indices[split_from: ])\n",
    "    train_loader = dataloader(datasets, sampler = train_smp, batch_size = batchsize )\n",
    "    valid_loader = dataloader(datasets, sampler = valid_smp,batch_size = batchsize )\n",
    "    \n",
    "    return  train_loader, valid_loader"
   ]
  },
  {
   "cell_type": "code",
   "execution_count": 350,
   "metadata": {},
   "outputs": [],
   "source": [
    "\n",
    "train_data = train_data.replace(  [np.NaN],[0])\n",
    "train_data['target_2']  = (train_data.target-1).astype(bool).astype( int)\n",
    "\n",
    "label = train_data[['target', 'target_2']]\n",
    "#pad = nn.ZeroPad2d(( 7,7,0,0))\n",
    "\n",
    "train_data['vector'] = train_data.text.apply( embedSentence )\n",
    "train_data['vector'] = train_data.vector.apply( torch.Tensor)\n"
   ]
  },
  {
   "cell_type": "code",
   "execution_count": 51,
   "metadata": {},
   "outputs": [],
   "source": [
    "from sklearn.model_selection import train_test_split\n",
    "train_x, test_x, train_y, test_y = train_test_split(train_data, train_data['target'], test_size = 0.1,stratify = train_data['target'])"
   ]
  },
  {
   "cell_type": "code",
   "execution_count": 52,
   "metadata": {},
   "outputs": [],
   "source": [
    "train_x = train_x.reset_index(drop = True)\n",
    "train_x.to_csv('/home/sanchit/Desktop/kaggle/disaster_tweets/trainsplit.csv')"
   ]
  },
  {
   "cell_type": "code",
   "execution_count": 53,
   "metadata": {},
   "outputs": [],
   "source": [
    "test_x = test_x.reset_index(drop = True)\n",
    "test_x.to_csv('/home/sanchit/Desktop/kaggle/disaster_tweets/testsplit.csv')"
   ]
  },
  {
   "cell_type": "code",
   "execution_count": 54,
   "metadata": {},
   "outputs": [],
   "source": [
    "train_x = pd.read_csv('/home/sanchit/Desktop/kaggle/disaster_tweets/trainsplit.csv' )\n",
    "train_x = train_x.drop('Unnamed: 0', 1)\n",
    "test_x = pd.read_csv('/home/sanchit/Desktop/kaggle/disaster_tweets/testsplit.csv')\n",
    "test_x = test_x.drop('Unnamed: 0', 1)"
   ]
  },
  {
   "cell_type": "code",
   "execution_count": 55,
   "metadata": {},
   "outputs": [
    {
     "data": {
      "text/html": [
       "<div>\n",
       "<style scoped>\n",
       "    .dataframe tbody tr th:only-of-type {\n",
       "        vertical-align: middle;\n",
       "    }\n",
       "\n",
       "    .dataframe tbody tr th {\n",
       "        vertical-align: top;\n",
       "    }\n",
       "\n",
       "    .dataframe thead th {\n",
       "        text-align: right;\n",
       "    }\n",
       "</style>\n",
       "<table border=\"1\" class=\"dataframe\">\n",
       "  <thead>\n",
       "    <tr style=\"text-align: right;\">\n",
       "      <th></th>\n",
       "      <th>id</th>\n",
       "      <th>keyword</th>\n",
       "      <th>location</th>\n",
       "      <th>text</th>\n",
       "      <th>target</th>\n",
       "      <th>target_2</th>\n",
       "      <th>vector</th>\n",
       "    </tr>\n",
       "  </thead>\n",
       "  <tbody>\n",
       "    <tr>\n",
       "      <th>0</th>\n",
       "      <td>3356</td>\n",
       "      <td>demolition</td>\n",
       "      <td>0</td>\n",
       "      <td>@DavidVonderhaar if you loved me even a little...</td>\n",
       "      <td>0</td>\n",
       "      <td>1</td>\n",
       "      <td>tensor([[ 2.7724e-01,  8.8469e-01, -2.6247e-01...</td>\n",
       "    </tr>\n",
       "    <tr>\n",
       "      <th>1</th>\n",
       "      <td>10606</td>\n",
       "      <td>wounded</td>\n",
       "      <td>USA</td>\n",
       "      <td>One man fatally shot another wounded on Vermon...</td>\n",
       "      <td>1</td>\n",
       "      <td>0</td>\n",
       "      <td>tensor([[ 3.1474e-01,  4.1662e-01,  1.3480e-01...</td>\n",
       "    </tr>\n",
       "    <tr>\n",
       "      <th>2</th>\n",
       "      <td>7992</td>\n",
       "      <td>razed</td>\n",
       "      <td>Erie, PA</td>\n",
       "      <td>today will be another dualcom with @Im_Razed !...</td>\n",
       "      <td>0</td>\n",
       "      <td>1</td>\n",
       "      <td>tensor([[ 2.7751e-04,  4.2673e-01, -8.2938e-02...</td>\n",
       "    </tr>\n",
       "    <tr>\n",
       "      <th>3</th>\n",
       "      <td>7009</td>\n",
       "      <td>mayhem</td>\n",
       "      <td>0</td>\n",
       "      <td>Tonight It's Going To Be Mayhem @ #4PlayThursd...</td>\n",
       "      <td>0</td>\n",
       "      <td>1</td>\n",
       "      <td>tensor([[-0.2408,  0.6418, -0.2411,  ..., -0.0...</td>\n",
       "    </tr>\n",
       "    <tr>\n",
       "      <th>4</th>\n",
       "      <td>8163</td>\n",
       "      <td>rescuers</td>\n",
       "      <td>0</td>\n",
       "      <td>VIDEO: 'We're picking up bodies from water': R...</td>\n",
       "      <td>1</td>\n",
       "      <td>0</td>\n",
       "      <td>tensor([[-0.0769, -0.0367,  1.0061,  ..., -0.4...</td>\n",
       "    </tr>\n",
       "  </tbody>\n",
       "</table>\n",
       "</div>"
      ],
      "text/plain": [
       "      id     keyword  location  \\\n",
       "0   3356  demolition         0   \n",
       "1  10606     wounded       USA   \n",
       "2   7992       razed  Erie, PA   \n",
       "3   7009      mayhem         0   \n",
       "4   8163    rescuers         0   \n",
       "\n",
       "                                                text  target  target_2  \\\n",
       "0  @DavidVonderhaar if you loved me even a little...       0         1   \n",
       "1  One man fatally shot another wounded on Vermon...       1         0   \n",
       "2  today will be another dualcom with @Im_Razed !...       0         1   \n",
       "3  Tonight It's Going To Be Mayhem @ #4PlayThursd...       0         1   \n",
       "4  VIDEO: 'We're picking up bodies from water': R...       1         0   \n",
       "\n",
       "                                              vector  \n",
       "0  tensor([[ 2.7724e-01,  8.8469e-01, -2.6247e-01...  \n",
       "1  tensor([[ 3.1474e-01,  4.1662e-01,  1.3480e-01...  \n",
       "2  tensor([[ 2.7751e-04,  4.2673e-01, -8.2938e-02...  \n",
       "3  tensor([[-0.2408,  0.6418, -0.2411,  ..., -0.0...  \n",
       "4  tensor([[-0.0769, -0.0367,  1.0061,  ..., -0.4...  "
      ]
     },
     "execution_count": 55,
     "metadata": {},
     "output_type": "execute_result"
    }
   ],
   "source": [
    "train_x.head()"
   ]
  },
  {
   "cell_type": "code",
   "execution_count": 56,
   "metadata": {},
   "outputs": [],
   "source": [
    "del embed"
   ]
  },
  {
   "cell_type": "code",
   "execution_count": 39,
   "metadata": {
    "scrolled": true
   },
   "outputs": [
    {
     "name": "stdout",
     "output_type": "stream",
     "text": [
      "tensor([[0., 1., 2., 3., 4.],\n",
      "        [0., 1., 2., 3., 4.],\n",
      "        [0., 1., 2., 3., 4.]])\n"
     ]
    },
    {
     "data": {
      "text/plain": [
       "tensor([[0., 1., 2., 3., 4.],\n",
       "        [0., 1., 2., 3., 4.],\n",
       "        [0., 1., 2., 3., 4.]])"
      ]
     },
     "execution_count": 39,
     "metadata": {},
     "output_type": "execute_result"
    }
   ],
   "source": [
    "alpha = [[i for i in range(5)] for i in range(3)]\n",
    "beta = torch.Tensor(alpha)\n",
    "print(beta)\n",
    "\n",
    "torch.Tensor(np.array(alpha))"
   ]
  },
  {
   "cell_type": "code",
   "execution_count": 60,
   "metadata": {},
   "outputs": [],
   "source": [
    "from torch.utils.data import DataLoader, Dataset\n",
    "from random import randint\n",
    "from IPython.display import display\n",
    "class textDataset(Dataset):\n",
    "    \n",
    "    def __init__(self, data, maxSeqLen):\n",
    "        self.data = data\n",
    "        \n",
    "        self.data = self.data[['text', \"target\", 'target_2']]\n",
    "        self.maxSeqLen = maxSeqLen\n",
    "        display(self.data.head())\n",
    "    def __len__(self):\n",
    "        return len( self.data)\n",
    "        \n",
    "    def __getitem__( self, i):\n",
    "        \n",
    "        fragment = embedSentence( self.data.iloc[i][\"text\"])\n",
    "        \n",
    "        labels = self.data.iloc[i][[\"target\",\"target_2\"]]\n",
    "        labels = torch.Tensor(labels)\n",
    "        return torch.Tensor(fragment), labels\n",
    "\n",
    "class PadSequence:\n",
    "    def __call__(self, batch):\n",
    "     \n",
    "        sorted_batch = sorted(batch, key=lambda x: x[0].shape[0], reverse=True)\n",
    "        sequences = [x[0] for x in sorted_batch]\n",
    "        sequences_padded = torch.nn.utils.rnn.pad_sequence(sequences, batch_first=True)\n",
    "    \n",
    "        lengths = torch.LongTensor([len(x) for x in sequences])\n",
    "        labels =  list(map(lambda x: x[1], sorted_batch))\n",
    " \n",
    "        return sequences_padded, labels, lengths"
   ]
  },
  {
   "cell_type": "code",
   "execution_count": 327,
   "metadata": {},
   "outputs": [
    {
     "data": {
      "text/html": [
       "<div>\n",
       "<style scoped>\n",
       "    .dataframe tbody tr th:only-of-type {\n",
       "        vertical-align: middle;\n",
       "    }\n",
       "\n",
       "    .dataframe tbody tr th {\n",
       "        vertical-align: top;\n",
       "    }\n",
       "\n",
       "    .dataframe thead th {\n",
       "        text-align: right;\n",
       "    }\n",
       "</style>\n",
       "<table border=\"1\" class=\"dataframe\">\n",
       "  <thead>\n",
       "    <tr style=\"text-align: right;\">\n",
       "      <th></th>\n",
       "      <th>text</th>\n",
       "      <th>target</th>\n",
       "      <th>target_2</th>\n",
       "    </tr>\n",
       "  </thead>\n",
       "  <tbody>\n",
       "    <tr>\n",
       "      <th>0</th>\n",
       "      <td>@DavidVonderhaar if you loved me even a little...</td>\n",
       "      <td>0</td>\n",
       "      <td>1</td>\n",
       "    </tr>\n",
       "    <tr>\n",
       "      <th>1</th>\n",
       "      <td>One man fatally shot another wounded on Vermon...</td>\n",
       "      <td>1</td>\n",
       "      <td>0</td>\n",
       "    </tr>\n",
       "    <tr>\n",
       "      <th>2</th>\n",
       "      <td>today will be another dualcom with @Im_Razed !...</td>\n",
       "      <td>0</td>\n",
       "      <td>1</td>\n",
       "    </tr>\n",
       "    <tr>\n",
       "      <th>3</th>\n",
       "      <td>Tonight It's Going To Be Mayhem @ #4PlayThursd...</td>\n",
       "      <td>0</td>\n",
       "      <td>1</td>\n",
       "    </tr>\n",
       "    <tr>\n",
       "      <th>4</th>\n",
       "      <td>VIDEO: 'We're picking up bodies from water': R...</td>\n",
       "      <td>1</td>\n",
       "      <td>0</td>\n",
       "    </tr>\n",
       "  </tbody>\n",
       "</table>\n",
       "</div>"
      ],
      "text/plain": [
       "                                                text  target  target_2\n",
       "0  @DavidVonderhaar if you loved me even a little...       0         1\n",
       "1  One man fatally shot another wounded on Vermon...       1         0\n",
       "2  today will be another dualcom with @Im_Razed !...       0         1\n",
       "3  Tonight It's Going To Be Mayhem @ #4PlayThursd...       0         1\n",
       "4  VIDEO: 'We're picking up bodies from water': R...       1         0"
      ]
     },
     "metadata": {},
     "output_type": "display_data"
    },
    {
     "data": {
      "text/html": [
       "<div>\n",
       "<style scoped>\n",
       "    .dataframe tbody tr th:only-of-type {\n",
       "        vertical-align: middle;\n",
       "    }\n",
       "\n",
       "    .dataframe tbody tr th {\n",
       "        vertical-align: top;\n",
       "    }\n",
       "\n",
       "    .dataframe thead th {\n",
       "        text-align: right;\n",
       "    }\n",
       "</style>\n",
       "<table border=\"1\" class=\"dataframe\">\n",
       "  <thead>\n",
       "    <tr style=\"text-align: right;\">\n",
       "      <th></th>\n",
       "      <th>text</th>\n",
       "      <th>target</th>\n",
       "      <th>target_2</th>\n",
       "    </tr>\n",
       "  </thead>\n",
       "  <tbody>\n",
       "    <tr>\n",
       "      <th>0</th>\n",
       "      <td>Whenever I have a meltdown and need someone @B...</td>\n",
       "      <td>0</td>\n",
       "      <td>1</td>\n",
       "    </tr>\n",
       "    <tr>\n",
       "      <th>1</th>\n",
       "      <td>On the 2nd year the officer team running the c...</td>\n",
       "      <td>0</td>\n",
       "      <td>1</td>\n",
       "    </tr>\n",
       "    <tr>\n",
       "      <th>2</th>\n",
       "      <td>Jewish leaders prayed at the hospital where a ...</td>\n",
       "      <td>1</td>\n",
       "      <td>0</td>\n",
       "    </tr>\n",
       "    <tr>\n",
       "      <th>3</th>\n",
       "      <td>@swayoung01 Hi I thought that I recognised you...</td>\n",
       "      <td>0</td>\n",
       "      <td>1</td>\n",
       "    </tr>\n",
       "    <tr>\n",
       "      <th>4</th>\n",
       "      <td>Suicide bomber kills 15 in Saudi security site...</td>\n",
       "      <td>1</td>\n",
       "      <td>0</td>\n",
       "    </tr>\n",
       "  </tbody>\n",
       "</table>\n",
       "</div>"
      ],
      "text/plain": [
       "                                                text  target  target_2\n",
       "0  Whenever I have a meltdown and need someone @B...       0         1\n",
       "1  On the 2nd year the officer team running the c...       0         1\n",
       "2  Jewish leaders prayed at the hospital where a ...       1         0\n",
       "3  @swayoung01 Hi I thought that I recognised you...       0         1\n",
       "4  Suicide bomber kills 15 in Saudi security site...       1         0"
      ]
     },
     "metadata": {},
     "output_type": "display_data"
    }
   ],
   "source": [
    "batch = 256\n",
    "seqlen = 20\n",
    "trainLoader = DataLoader(textDataset(train_x, seqlen), batch_size = batch, shuffle = True, collate_fn = PadSequence())\n",
    "testLoader = DataLoader(textDataset(test_x, seqlen), batch_size = batch, shuffle = True, collate_fn = PadSequence())"
   ]
  },
  {
   "cell_type": "markdown",
   "metadata": {},
   "source": [
    "# Model"
   ]
  },
  {
   "cell_type": "code",
   "execution_count": 328,
   "metadata": {},
   "outputs": [],
   "source": [
    "class loading:\n",
    "    \n",
    "    \n",
    "    def __init__(self, a):\n",
    "        self.a = a\n",
    "        self.reached = 0\n",
    "        self.call = 0\n",
    "        self.dis = np.floor(40*1.0/a) if a*1.0/40 < 1 else 1\n",
    "        self.loadLen = \" \"*40\n",
    "        \n",
    "    def __call__(self):\n",
    "        self.call += 1\n",
    "        if( self.a*1.0/40 < 1):\n",
    "            self.reached += self.dis\n",
    "        else:\n",
    "            if( self.call %(self.a/40) == 0):\n",
    "                self.reached += self.dis\n",
    "        \n",
    "        \n",
    "        print(\"{:.1f}%  \".format(self.reached*100.0/40), end = '')\n",
    "        print(\"|\",  end = '')\n",
    "        i = 0\n",
    "        j = 0\n",
    "        while(i != 40 and j!= self.reached):\n",
    "            print(\">\",  end = '')\n",
    "            j += 1\n",
    "            i += 1\n",
    "            \n",
    "        while(i != 40):\n",
    "            print(' ', end ='')\n",
    "            i+= 1\n",
    "            \n",
    "        print('|')\n",
    "        "
   ]
  },
  {
   "cell_type": "code",
   "execution_count": 356,
   "metadata": {},
   "outputs": [
    {
     "data": {
      "text/plain": [
       "(array([ 140.,  591.,  770., 1399., 1209., 1824., 1283.,  321.,   65.,\n",
       "          11.]),\n",
       " array([ 1. ,  4.6,  8.2, 11.8, 15.4, 19. , 22.6, 26.2, 29.8, 33.4, 37. ]),\n",
       " <BarContainer object of 10 artists>)"
      ]
     },
     "execution_count": 356,
     "metadata": {},
     "output_type": "execute_result"
    },
    {
     "data": {
      "image/png": "[encoded data removed]",
      "text/plain": [
       "<Figure size 432x288 with 1 Axes>"
      ]
     },
     "metadata": {
      "needs_background": "light"
     },
     "output_type": "display_data"
    }
   ],
   "source": [
    "import matplotlib.pyplot as plt\n",
    "plt.hist(train_data['vector'].apply(len))"
   ]
  },
  {
   "cell_type": "code",
   "execution_count": 280,
   "metadata": {},
   "outputs": [
    {
     "name": "stdout",
     "output_type": "stream",
     "text": [
      "32.5%  |>>>>>>>>>>>>>                           |\n",
      "65.0%  |>>>>>>>>>>>>>>>>>>>>>>>>>>              |\n",
      "97.5%  |>>>>>>>>>>>>>>>>>>>>>>>>>>>>>>>>>>>>>>> |\n"
     ]
    }
   ],
   "source": [
    "x = loading(3)\n",
    "for i in range(3):\n",
    "    x()"
   ]
  },
  {
   "cell_type": "code",
   "execution_count": 380,
   "metadata": {},
   "outputs": [],
   "source": [
    "from torch.nn.utils.rnn import pack_padded_sequence as pack\n",
    "from torch.optim import SGD\n",
    "\n",
    "class Model(nn.Module):\n",
    "    \n",
    "    def __init__(self):\n",
    "        super(Model, self).__init__()\n",
    "        self.rnn =  nn.LSTM(50, 20,  bias = True, bidirectional = False, batch_first = True)\n",
    "        self.fcc =  nn.Sequential( nn.Linear(20,10),\n",
    "                                  nn.BatchNorm1d(10),\n",
    "                                  nn.Dropout(0.5),\n",
    "                                  nn.ReLU(),\n",
    "                                  nn.Linear(10,2),\n",
    "                                   nn.Softmax())\n",
    "    def forward(self,x):\n",
    "        output , (ht, ct) = self.rnn(x)\n",
    "        out = ht[-1].squeeze()\n",
    "        return self.fcc( out )\n",
    "        \n",
    "\n",
    "def train( model, lossFn, trainloader,testloader,  lr_ = 0.001 , epochs = 10):\n",
    "    \n",
    "    model.train()\n",
    "    optimizer = SGD( model.parameters(), lr = lr_, momentum = 0.89)\n",
    "    \n",
    "    vallosses = []\n",
    "    valaccuracy = []\n",
    "    trainlosses = []\n",
    "    trainaccuracy = []\n",
    "    prevValLoss = 10000000\n",
    "    loading_ = loading(epochs)\n",
    "    for i in range(epochs):\n",
    "        loading_()\n",
    "        runningLoss = 0\n",
    "        runningCorrect = 0\n",
    "        total = 0\n",
    "        batches = 0\n",
    "        optimizer.zero_grad()\n",
    "        for x,y, x_lens in trainloader:\n",
    "\n",
    "#             x_pack = pack(x, x_lens, batch_first = True)\n",
    "            \n",
    "            pred = model(x)\n",
    "            y = torch.stack(y)\n",
    "            _, y = torch.max(y, 1)\n",
    "            \n",
    "            try:\n",
    "                loss = lossFn(pred, y)\n",
    "            except:\n",
    "                continue\n",
    "            loss.backward( retain_graph = True)\n",
    "            \n",
    "#             nn.utils.clip_grad_value_(model.parameters(), 10 )\n",
    "            \n",
    "            optimizer.step()\n",
    "            \n",
    "            _, pred = torch.max(pred, 1)\n",
    "            correct = pred.eq( y).sum()\n",
    "            \n",
    "            runningCorrect += correct.item()\n",
    "            runningLoss += loss.item()\n",
    "            total += len(y)\n",
    "            batches += 1\n",
    "        \n",
    "        print(\"train epoch{}/{}:   trainLoss: {:.4f} trainAcc: {:.4f}\".format(i, epochs, runningLoss/batches, runningCorrect*1.0/total))\n",
    "        trainaccuracy.append(runningCorrect*1.0/total)\n",
    "        trainlosses.append(runningLoss*1.0/batches)\n",
    "        \n",
    "        with torch.no_grad():\n",
    "            model.eval()\n",
    "            \n",
    "            runningLoss = 0\n",
    "            runningCorrect = 0\n",
    "            total = 0\n",
    "            batches = 0\n",
    "            \n",
    "            for x,y, x_len in testloader:\n",
    "#                 x_pack = pack(x, x_lens, batch_first = True)\n",
    "                pred = model(x)\n",
    "                y = torch.stack(y)\n",
    "                _,y = torch.max(y, 1)\n",
    "                try:\n",
    "                    loss = lossFn(pred, y)\n",
    "                except:\n",
    "                    continue\n",
    "                _, pred = torch.max(pred, 1)\n",
    "                \n",
    "                total += len(y)\n",
    "                batches += 1\n",
    "                correct = pred.eq(y).sum()\n",
    "                runningCorrect += correct.item()\n",
    "                runningLoss += loss.item()\n",
    "                \n",
    "            print(\"                     valLoss: {:.4f}   valAcc: {:.4f}\".format(runningLoss*1.0/batches, runningCorrect*1.0/total))\n",
    "            print( runningLoss*1.0, runningCorrect*1.0)\n",
    "            valLoss = runningLoss*1.0/batches\n",
    "            if( valLoss < prevValLoss):\n",
    "                prevValLoss = valLoss\n",
    "                torch.save(model.state_dict(), '/home/sanchit/Desktop/kaggle/disaster_tweets/modelRNN_layer2.pt')\n",
    "                print(\"                                                                              >>>>learning\")\n",
    "            valaccuracy.append(runningCorrect*1.0/total)\n",
    "            vallosses.append(runningLoss*1.0/batches)\n",
    "            \n",
    "    return valaccuracy, vallosses, trainaccuracy, trainlosses\n",
    "\n",
    "\n"
   ]
  },
  {
   "cell_type": "code",
   "execution_count": 384,
   "metadata": {},
   "outputs": [],
   "source": [
    "model = Model()\n"
   ]
  },
  {
   "cell_type": "code",
   "execution_count": 404,
   "metadata": {},
   "outputs": [],
   "source": [
    "train_data['vector'] = train_data['vector'].tolist()"
   ]
  },
  {
   "cell_type": "code",
   "execution_count": 406,
   "metadata": {},
   "outputs": [
    {
     "data": {
      "text/html": [
       "<div>\n",
       "<style scoped>\n",
       "    .dataframe tbody tr th:only-of-type {\n",
       "        vertical-align: middle;\n",
       "    }\n",
       "\n",
       "    .dataframe tbody tr th {\n",
       "        vertical-align: top;\n",
       "    }\n",
       "\n",
       "    .dataframe thead th {\n",
       "        text-align: right;\n",
       "    }\n",
       "</style>\n",
       "<table border=\"1\" class=\"dataframe\">\n",
       "  <thead>\n",
       "    <tr style=\"text-align: right;\">\n",
       "      <th></th>\n",
       "      <th>id</th>\n",
       "      <th>keyword</th>\n",
       "      <th>location</th>\n",
       "      <th>text</th>\n",
       "      <th>target</th>\n",
       "      <th>target_2</th>\n",
       "      <th>vector</th>\n",
       "    </tr>\n",
       "  </thead>\n",
       "  <tbody>\n",
       "    <tr>\n",
       "      <th>0</th>\n",
       "      <td>1</td>\n",
       "      <td>0</td>\n",
       "      <td>0</td>\n",
       "      <td>Our Deeds are the Reason of this #earthquake M...</td>\n",
       "      <td>1</td>\n",
       "      <td>0</td>\n",
       "      <td>[[tensor(0.3466), tensor(0.4069), tensor(-0.07...</td>\n",
       "    </tr>\n",
       "    <tr>\n",
       "      <th>1</th>\n",
       "      <td>4</td>\n",
       "      <td>0</td>\n",
       "      <td>0</td>\n",
       "      <td>Forest fire near La Ronge Sask. Canada</td>\n",
       "      <td>1</td>\n",
       "      <td>0</td>\n",
       "      <td>[[tensor(-0.0034), tensor(0.4816), tensor(-0.3...</td>\n",
       "    </tr>\n",
       "    <tr>\n",
       "      <th>2</th>\n",
       "      <td>5</td>\n",
       "      <td>0</td>\n",
       "      <td>0</td>\n",
       "      <td>All residents asked to 'shelter in place' are ...</td>\n",
       "      <td>1</td>\n",
       "      <td>0</td>\n",
       "      <td>[[tensor(0.1925), tensor(0.1001), tensor(0.063...</td>\n",
       "    </tr>\n",
       "    <tr>\n",
       "      <th>3</th>\n",
       "      <td>6</td>\n",
       "      <td>0</td>\n",
       "      <td>0</td>\n",
       "      <td>13,000 people receive #wildfires evacuation or...</td>\n",
       "      <td>1</td>\n",
       "      <td>0</td>\n",
       "      <td>[[tensor(-0.3621), tensor(0.4644), tensor(0.72...</td>\n",
       "    </tr>\n",
       "    <tr>\n",
       "      <th>4</th>\n",
       "      <td>7</td>\n",
       "      <td>0</td>\n",
       "      <td>0</td>\n",
       "      <td>Just got sent this photo from Ruby #Alaska as ...</td>\n",
       "      <td>1</td>\n",
       "      <td>0</td>\n",
       "      <td>[[tensor(0.1770), tensor(0.0652), tensor(0.285...</td>\n",
       "    </tr>\n",
       "  </tbody>\n",
       "</table>\n",
       "</div>"
      ],
      "text/plain": [
       "   id keyword location                                               text  \\\n",
       "0   1       0        0  Our Deeds are the Reason of this #earthquake M...   \n",
       "1   4       0        0             Forest fire near La Ronge Sask. Canada   \n",
       "2   5       0        0  All residents asked to 'shelter in place' are ...   \n",
       "3   6       0        0  13,000 people receive #wildfires evacuation or...   \n",
       "4   7       0        0  Just got sent this photo from Ruby #Alaska as ...   \n",
       "\n",
       "   target  target_2                                             vector  \n",
       "0       1         0  [[tensor(0.3466), tensor(0.4069), tensor(-0.07...  \n",
       "1       1         0  [[tensor(-0.0034), tensor(0.4816), tensor(-0.3...  \n",
       "2       1         0  [[tensor(0.1925), tensor(0.1001), tensor(0.063...  \n",
       "3       1         0  [[tensor(-0.3621), tensor(0.4644), tensor(0.72...  \n",
       "4       1         0  [[tensor(0.1770), tensor(0.0652), tensor(0.285...  "
      ]
     },
     "execution_count": 406,
     "metadata": {},
     "output_type": "execute_result"
    }
   ],
   "source": [
    "train_data.head()"
   ]
  },
  {
   "cell_type": "code",
   "execution_count": 405,
   "metadata": {},
   "outputs": [
    {
     "ename": "TypeError",
     "evalue": "can't convert np.ndarray of type numpy.object_. The only supported types are: float64, float32, float16, int64, int32, int16, int8, and uint8.",
     "output_type": "error",
     "traceback": [
      "\u001b[0;31m---------------------------------------------------------------------------\u001b[0m",
      "\u001b[0;31mTypeError\u001b[0m                                 Traceback (most recent call last)",
      "\u001b[0;32m<ipython-input-405-bafa67b1b5a5>\u001b[0m in \u001b[0;36m<module>\u001b[0;34m\u001b[0m\n\u001b[1;32m      4\u001b[0m                          \u001b[0;34m,\u001b[0m \u001b[0mlr\u001b[0m\u001b[0;34m=\u001b[0m\u001b[0;36m0.001\u001b[0m\u001b[0;34m\u001b[0m\u001b[0;34m\u001b[0m\u001b[0m\n\u001b[1;32m      5\u001b[0m                          , verbose=1)\n\u001b[0;32m----> 6\u001b[0;31m \u001b[0mX_trf\u001b[0m \u001b[0;34m=\u001b[0m \u001b[0mtorch\u001b[0m\u001b[0;34m.\u001b[0m\u001b[0mfrom_numpy\u001b[0m\u001b[0;34m(\u001b[0m\u001b[0mnp\u001b[0m\u001b[0;34m.\u001b[0m\u001b[0marray\u001b[0m\u001b[0;34m(\u001b[0m\u001b[0mtrain_data\u001b[0m\u001b[0;34m[\u001b[0m\u001b[0;34m[\u001b[0m\u001b[0;34m'vector'\u001b[0m\u001b[0;34m]\u001b[0m\u001b[0;34m]\u001b[0m\u001b[0;34m)\u001b[0m\u001b[0;34m)\u001b[0m\u001b[0;34m\u001b[0m\u001b[0;34m\u001b[0m\u001b[0m\n\u001b[0m\u001b[1;32m      7\u001b[0m \u001b[0my_trf\u001b[0m \u001b[0;34m=\u001b[0m \u001b[0mtorch\u001b[0m\u001b[0;34m.\u001b[0m\u001b[0mfrom_numpy\u001b[0m\u001b[0;34m(\u001b[0m\u001b[0mnp\u001b[0m\u001b[0;34m.\u001b[0m\u001b[0marray\u001b[0m\u001b[0;34m(\u001b[0m\u001b[0mtrain_data\u001b[0m\u001b[0;34m[\u001b[0m\u001b[0;34m[\u001b[0m\u001b[0;34m'target'\u001b[0m\u001b[0;34m,\u001b[0m \u001b[0;34m\"target_2\"\u001b[0m\u001b[0;34m]\u001b[0m\u001b[0;34m]\u001b[0m\u001b[0;34m)\u001b[0m\u001b[0;34m)\u001b[0m\u001b[0;34m\u001b[0m\u001b[0;34m\u001b[0m\u001b[0m\n\u001b[1;32m      8\u001b[0m \u001b[0;34m\u001b[0m\u001b[0m\n",
      "\u001b[0;31mTypeError\u001b[0m: can't convert np.ndarray of type numpy.object_. The only supported types are: float64, float32, float16, int64, int32, int16, int8, and uint8."
     ]
    }
   ],
   "source": [
    "from skorch import NeuralNetRegressor\n",
    "net = NeuralNetRegressor(Model\n",
    "                         , max_epochs=100\n",
    "                         , lr=0.001\n",
    "                         , verbose=1)\n",
    "X_trf = torch.from_numpy(np.array(train_data[['vector']]))\n",
    "y_trf = torch.from_numpy(np.array(train_data[['target', \"target_2\"]]))\n",
    "\n",
    "print(X_trf.shape,y_trf.shape)\n",
    "\n",
    "from sklearn.model_selection import GridSearchCV\n",
    "\n",
    "params = {\n",
    "    'lr': [np.exp(5-i) for i in range(10)],\n",
    "    'max_epochs': list(range(500,5500, 500))\n",
    "}\n",
    "\n",
    "gs = GridSearchCV(net, params, refit=False, scoring='r2', verbose=1, cv=10)\n",
    "\n",
    "gs.fit(X_trf, y_trf)"
   ]
  },
  {
   "cell_type": "code",
   "execution_count": null,
   "metadata": {},
   "outputs": [],
   "source": [
    "grid = [np.exp(5-i) for i in range(10)]\n",
    "\n",
    "from sklearn.model_selection import GridSearchCV\n"
   ]
  },
  {
   "cell_type": "code",
   "execution_count": 383,
   "metadata": {
    "scrolled": true
   },
   "outputs": [
    {
     "name": "stdout",
     "output_type": "stream",
     "text": [
      "10.0%  |>>>>                                    |\n",
      "train epoch0/10:   trainLoss: nan trainAcc: 0.4297\n",
      "                     valLoss: nan   valAcc: 0.4291\n",
      "nan 327.0\n",
      "20.0%  |>>>>>>>>                                |\n",
      "train epoch1/10:   trainLoss: nan trainAcc: 0.4297\n",
      "                     valLoss: nan   valAcc: 0.4291\n",
      "nan 327.0\n",
      "30.0%  |>>>>>>>>>>>>                            |\n",
      "train epoch2/10:   trainLoss: nan trainAcc: 0.4297\n",
      "                     valLoss: nan   valAcc: 0.4291\n",
      "nan 327.0\n",
      "40.0%  |>>>>>>>>>>>>>>>>                        |\n",
      "train epoch3/10:   trainLoss: nan trainAcc: 0.4297\n",
      "                     valLoss: nan   valAcc: 0.4291\n",
      "nan 327.0\n",
      "50.0%  |>>>>>>>>>>>>>>>>>>>>                    |\n",
      "train epoch4/10:   trainLoss: nan trainAcc: 0.4297\n",
      "                     valLoss: nan   valAcc: 0.4291\n",
      "nan 327.0\n",
      "60.0%  |>>>>>>>>>>>>>>>>>>>>>>>>                |\n",
      "train epoch5/10:   trainLoss: nan trainAcc: 0.4297\n",
      "                     valLoss: nan   valAcc: 0.4291\n",
      "nan 327.0\n",
      "70.0%  |>>>>>>>>>>>>>>>>>>>>>>>>>>>>            |\n",
      "train epoch6/10:   trainLoss: nan trainAcc: 0.4297\n",
      "                     valLoss: nan   valAcc: 0.4291\n",
      "nan 327.0\n",
      "80.0%  |>>>>>>>>>>>>>>>>>>>>>>>>>>>>>>>>        |\n",
      "train epoch7/10:   trainLoss: nan trainAcc: 0.4297\n",
      "                     valLoss: nan   valAcc: 0.4291\n",
      "nan 327.0\n",
      "90.0%  |>>>>>>>>>>>>>>>>>>>>>>>>>>>>>>>>>>>>    |\n",
      "train epoch8/10:   trainLoss: nan trainAcc: 0.4297\n",
      "                     valLoss: nan   valAcc: 0.4291\n",
      "nan 327.0\n",
      "100.0%  |>>>>>>>>>>>>>>>>>>>>>>>>>>>>>>>>>>>>>>>>|\n",
      "train epoch9/10:   trainLoss: nan trainAcc: 0.4297\n",
      "                     valLoss: nan   valAcc: 0.4291\n",
      "nan 327.0\n"
     ]
    }
   ],
   "source": [
    "valaccuracy, vallosses, trainaccuracy, trainlosses = \\\n",
    "train(model,nn.CrossEntropyLoss(), trainLoader, testLoader,lr_ = np.exp(5)) "
   ]
  },
  {
   "cell_type": "code",
   "execution_count": null,
   "metadata": {},
   "outputs": [],
   "source": []
  },
  {
   "cell_type": "markdown",
   "metadata": {},
   "source": [
    "# torch.max(torch.Tensor([np.random.randn(10) for i in range(10)]), 0)"
   ]
  },
  {
   "cell_type": "code",
   "execution_count": null,
   "metadata": {},
   "outputs": [],
   "source": [
    "import matplotlib"
   ]
  },
  {
   "cell_type": "code",
   "execution_count": 91,
   "metadata": {},
   "outputs": [
    {
     "name": "stderr",
     "output_type": "stream",
     "text": [
      "100%|██████████| 60/60 [00:37<00:00,  1.59it/s]\n"
     ]
    },
    {
     "data": {
      "text/plain": [
       "[<matplotlib.lines.Line2D at 0x7f1c637fbc88>]"
      ]
     },
     "execution_count": 91,
     "metadata": {},
     "output_type": "execute_result"
    },
    {
     "data": {
      "image/png": "[encoded data removed]",
      "text/plain": [
       "<Figure size 432x288 with 1 Axes>"
      ]
     },
     "metadata": {
      "needs_background": "light"
     },
     "output_type": "display_data"
    }
   ],
   "source": [
    "#batch size 50\n",
    "model = net( 0.0001 )\n",
    "epochs = 60\n",
    "losses = model.train_model(train,epochs)\n",
    "plt.plot(losses)"
   ]
  },
  {
   "cell_type": "code",
   "execution_count": 92,
   "metadata": {},
   "outputs": [
    {
     "name": "stdout",
     "output_type": "stream",
     "text": [
      "0.5699005441921561\n"
     ]
    }
   ],
   "source": [
    "correct, total, wrong = model.predict( train)\n",
    "print(float(correct)/int(total))"
   ]
  },
  {
   "cell_type": "code",
   "execution_count": 93,
   "metadata": {},
   "outputs": [
    {
     "name": "stdout",
     "output_type": "stream",
     "text": [
      "0.5713660245183888\n"
     ]
    }
   ],
   "source": [
    "correct, total, wrong = model.predict( valid)\n",
    "print(float(correct)/int(total))"
   ]
  },
  {
   "cell_type": "markdown",
   "metadata": {},
   "source": [
    "## \n",
    "model = net( 0.1 )\n",
    "epochs = 3\n",
    "losses = model.train_model(train,epochs)\n",
    "plt.plot(losses)"
   ]
  },
  {
   "cell_type": "code",
   "execution_count": 30,
   "metadata": {},
   "outputs": [
    {
     "name": "stdout",
     "output_type": "stream",
     "text": [
      "0.5713660245183888\n"
     ]
    }
   ],
   "source": [
    "correct, total, wrong = model.predict( valid)\n",
    "print(float(correct)/int(total))"
   ]
  },
  {
   "cell_type": "code",
   "execution_count": null,
   "metadata": {
    "scrolled": true
   },
   "outputs": [],
   "source": [
    "a = nn.Sequential(nn.Linear(48, 10),\n",
    "                                    nn.LeakyReLU(),\n",
    "                                    nn.Linear(10,2),\n",
    "                                    nn.ReLU(),\n",
    "                                    nn.Softmax())\n",
    "        \n",
    "alpha = [ 0.1377, -0.0023]\n",
    "\n",
    "a(torch.Tensor(alpha))"
   ]
  },
  {
   "cell_type": "code",
   "execution_count": null,
   "metadata": {},
   "outputs": [],
   "source": []
  },
  {
   "cell_type": "code",
   "execution_count": 31,
   "metadata": {},
   "outputs": [
    {
     "data": {
      "text/plain": [
       "[<matplotlib.lines.Line2D at 0x7faaf7d24320>]"
      ]
     },
     "execution_count": 31,
     "metadata": {},
     "output_type": "execute_result"
    },
    {
     "data": {
      "image/png": "[encoded data removed]",
      "text/plain": [
       "<Figure size 432x288 with 1 Axes>"
      ]
     },
     "metadata": {
      "needs_background": "light"
     },
     "output_type": "display_data"
    }
   ],
   "source": []
  },
  {
   "cell_type": "code",
   "execution_count": 124,
   "metadata": {},
   "outputs": [],
   "source": [
    "#LSTM MODEL\n",
    "\n",
    "\n",
    "from tqdm import tqdm\n",
    "class net( nn.Module ):\n",
    "    \n",
    "    def __init__( self,lr_  ):\n",
    "        \n",
    "        super().__init__()\n",
    "#         self.model1 = nn.Sequential(nn.LSTM(1, 2,  ( 7,7), stride = 2 ,padding = (3,3)),\n",
    "#                                     nn.Tanh(),\n",
    "#                                     nn.Conv2d(2, 4,  (5, 5), stride = 2 ,padding  = (2,2)),\n",
    "#                                     nn.Tanh(),\n",
    "#                                     nn.Conv2d(4, 6 , (3, 3), stride = 2 ,padding = (1,1)),\n",
    "#                                     nn.Tanh(),\n",
    "#                                     nn.Conv2d(6, 8, (3, 3), stride = 2 ,padding = (1,1)),\n",
    "#                                     nn.Tanh(),\n",
    "#                                     nn.Conv2d(8, 10, (3, 3), stride = 2 ,padding = (1,1)),\n",
    "#                                     nn.Tanh(),\n",
    "#                                     nn.Softmax()\n",
    "#                        )\n",
    "        self.model2 = nn.Sequential(nn.Linear(32*50, 200),\n",
    "                                    nn.Tanh(),\n",
    "                                    nn.Linear(200, 100),\n",
    "                                    nn.Tanh(),\n",
    "                                    nn.Linear(100, 50),\n",
    "                                    nn.Tanh(),\n",
    "                                    nn.Linear(50, 10),\n",
    "                                    nn.Tanh(),\n",
    "                                    nn.Linear( 10,5),\n",
    "                                    nn.Tanh(),\n",
    "                                    nn.Linear(5,2),\n",
    "                                    nn.Softmax(dim = 3))\n",
    "        \n",
    "        #self.optimizer1 =  torch.optim.Adam( self.model1.parameters(), lr = lr_ )\n",
    "        self.optimizer2 =  torch.optim.Adam( self.model2.parameters(), lr = lr_ )\n",
    "        \n",
    "        self.criterion = nn.MSELoss()\n",
    "        \n",
    "    def forward(self,data):\n",
    "        pass\n",
    "        \n",
    "    def train_model( self, train_loader, epochs):\n",
    "        self.train()\n",
    "        losses = []\n",
    "        correct0 = 0\n",
    "        for epoch in tqdm(range(epochs)):\n",
    "            \n",
    "            for ind, labels in train_loader:\n",
    "                #import pdb; pdb.set_trace()\n",
    "                \n",
    "                data = torch.autograd.Variable(torch.Tensor(train_data.vector[train_data.id.isin(ind) ].to_list()).reshape([-1, 1, 1,32* 50]),\\\n",
    "                                            requires_grad = True)\n",
    "                labels = torch.autograd.Variable( torch.Tensor(labels), requires_grad = False)\n",
    "                #self.optimizer1.zero_grad()\n",
    "                self.optimizer2.zero_grad()\n",
    "\n",
    "                #out = self.model1( data.float() )\n",
    "                #out = out.reshape( -1, 1, 1,20 )\n",
    "                out = self.model2( data )\n",
    "                #_,label = torch.max( labels, dim = 1)\n",
    "                loss = self.criterion( out.squeeze().float(), labels)\n",
    "\n",
    "\n",
    "                loss.backward()\n",
    "                #self.optimizer1.step()\n",
    "                self.optimizer2.step()\n",
    "                \n",
    "                losses.append( loss.item()/ len( train_data ) )\n",
    "\n",
    "        return losses\n",
    "                    \n",
    "    def predict( self,dataloader ):\n",
    "        correct = 0\n",
    "        total = 0\n",
    "        wrong = {}\n",
    "        \n",
    "        with torch.no_grad():\n",
    "            for ind, label in dataloader:\n",
    "                \n",
    "                data = torch.Tensor(train_data.vector[train_data.id.isin(ind) ].to_list()).reshape([-1, 1, 1,32* 50])\n",
    "                \n",
    "                #out1 = self.model1( data.float())\n",
    "                #out1 = out1.reshape( -1,1,1,20)\n",
    "                out2 = self.model2( data.float())\n",
    "                \n",
    "                _, out = torch.max( out2.squeeze().float(), dim = 1)\n",
    "                _,label = torch.max( label, dim =1 )\n",
    "                x = out.eq( label )\n",
    "                correct += x.sum()\n",
    "                \n",
    "                for i in range(len(x)):\n",
    "                    if x[i]== 0:\n",
    "                        wrong[label[i]] = data[i]\n",
    "                total += len( label)\n",
    "                \n",
    "            return correct,total, wrong\n",
    "        \n",
    "        \n",
    "        \n",
    "        "
   ]
  },
  {
   "cell_type": "code",
   "execution_count": 133,
   "metadata": {},
   "outputs": [
    {
     "name": "stderr",
     "output_type": "stream",
     "text": [
      "100%|██████████| 3/3 [00:00<00:00,  3.54it/s]\n"
     ]
    },
    {
     "data": {
      "text/plain": [
       "[<matplotlib.lines.Line2D at 0x7f1d1d4c84e0>]"
      ]
     },
     "execution_count": 133,
     "metadata": {},
     "output_type": "execute_result"
    },
    {
     "data": {
      "image/png": "[encoded data removed]",
      "text/plain": [
       "<Figure size 432x288 with 1 Axes>"
      ]
     },
     "metadata": {
      "needs_background": "light"
     },
     "output_type": "display_data"
    }
   ],
   "source": [
    "#batch size 50\n",
    "model = net( 0.001 )\n",
    "epochs = 3\n",
    "losses = model.train_model(train,epochs)\n",
    "plt.plot(losses)"
   ]
  },
  {
   "cell_type": "code",
   "execution_count": 134,
   "metadata": {},
   "outputs": [
    {
     "name": "stdout",
     "output_type": "stream",
     "text": [
      "0.5691499343216363\n",
      "0.568739054290718\n"
     ]
    }
   ],
   "source": [
    "correct, total, wrong = model.predict( train)\n",
    "print(float(correct)/int(total))\n",
    "    \n",
    "correct, total, wrong = model.predict( valid)\n",
    "print(float(correct)/int(total))"
   ]
  },
  {
   "cell_type": "code",
   "execution_count": 150,
   "metadata": {},
   "outputs": [],
   "source": [
    "train_data['vector_1d'] = train_data.vector.apply( lambda row: torch.Tensor(row).sum(0).tolist() )"
   ]
  },
  {
   "cell_type": "code",
   "execution_count": 151,
   "metadata": {},
   "outputs": [
    {
     "data": {
      "text/html": [
       "<div>\n",
       "<style scoped>\n",
       "    .dataframe tbody tr th:only-of-type {\n",
       "        vertical-align: middle;\n",
       "    }\n",
       "\n",
       "    .dataframe tbody tr th {\n",
       "        vertical-align: top;\n",
       "    }\n",
       "\n",
       "    .dataframe thead th {\n",
       "        text-align: right;\n",
       "    }\n",
       "</style>\n",
       "<table border=\"1\" class=\"dataframe\">\n",
       "  <thead>\n",
       "    <tr style=\"text-align: right;\">\n",
       "      <th></th>\n",
       "      <th>id</th>\n",
       "      <th>keyword</th>\n",
       "      <th>location</th>\n",
       "      <th>text</th>\n",
       "      <th>target</th>\n",
       "      <th>target_2</th>\n",
       "      <th>vector</th>\n",
       "      <th>vector_1d</th>\n",
       "    </tr>\n",
       "  </thead>\n",
       "  <tbody>\n",
       "    <tr>\n",
       "      <th>0</th>\n",
       "      <td>1</td>\n",
       "      <td>0</td>\n",
       "      <td>0</td>\n",
       "      <td>our deed be the reason of this earthquake may ...</td>\n",
       "      <td>1</td>\n",
       "      <td>0</td>\n",
       "      <td>[[0.3465999960899353, 0.40689000487327576, -0....</td>\n",
       "      <td>[5.67650842666626, 2.47524094581604, 1.1475468...</td>\n",
       "    </tr>\n",
       "    <tr>\n",
       "      <th>1</th>\n",
       "      <td>4</td>\n",
       "      <td>0</td>\n",
       "      <td>0</td>\n",
       "      <td>forest fire near la ronge sask canada</td>\n",
       "      <td>1</td>\n",
       "      <td>0</td>\n",
       "      <td>[[-0.003374400082975626, 0.48159000277519226, ...</td>\n",
       "      <td>[1.1511355638504028, 1.5277800559997559, -2.45...</td>\n",
       "    </tr>\n",
       "    <tr>\n",
       "      <th>2</th>\n",
       "      <td>5</td>\n",
       "      <td>0</td>\n",
       "      <td>0</td>\n",
       "      <td>all resident ask to shelter in place be be not...</td>\n",
       "      <td>1</td>\n",
       "      <td>0</td>\n",
       "      <td>[[0.19253000617027283, 0.10006000101566315, 0....</td>\n",
       "      <td>[12.836576461791992, 0.10034328699111938, 0.97...</td>\n",
       "    </tr>\n",
       "    <tr>\n",
       "      <th>3</th>\n",
       "      <td>6</td>\n",
       "      <td>0</td>\n",
       "      <td>0</td>\n",
       "      <td>people receive wildfire evacuation order in ca...</td>\n",
       "      <td>1</td>\n",
       "      <td>0</td>\n",
       "      <td>[[0.9528099894523621, -0.20608000457286835, 0....</td>\n",
       "      <td>[4.815604209899902, -0.47288405895233154, 0.81...</td>\n",
       "    </tr>\n",
       "    <tr>\n",
       "      <th>4</th>\n",
       "      <td>7</td>\n",
       "      <td>0</td>\n",
       "      <td>0</td>\n",
       "      <td>just get send this photo from ruby alaska a sm...</td>\n",
       "      <td>1</td>\n",
       "      <td>0</td>\n",
       "      <td>[[0.17698000371456146, 0.06522099673748016, 0....</td>\n",
       "      <td>[2.9653778076171875, 3.8920321464538574, 1.200...</td>\n",
       "    </tr>\n",
       "  </tbody>\n",
       "</table>\n",
       "</div>"
      ],
      "text/plain": [
       "   id keyword location                                               text  \\\n",
       "0   1       0        0  our deed be the reason of this earthquake may ...   \n",
       "1   4       0        0              forest fire near la ronge sask canada   \n",
       "2   5       0        0  all resident ask to shelter in place be be not...   \n",
       "3   6       0        0  people receive wildfire evacuation order in ca...   \n",
       "4   7       0        0  just get send this photo from ruby alaska a sm...   \n",
       "\n",
       "   target  target_2                                             vector  \\\n",
       "0       1         0  [[0.3465999960899353, 0.40689000487327576, -0....   \n",
       "1       1         0  [[-0.003374400082975626, 0.48159000277519226, ...   \n",
       "2       1         0  [[0.19253000617027283, 0.10006000101566315, 0....   \n",
       "3       1         0  [[0.9528099894523621, -0.20608000457286835, 0....   \n",
       "4       1         0  [[0.17698000371456146, 0.06522099673748016, 0....   \n",
       "\n",
       "                                           vector_1d  \n",
       "0  [5.67650842666626, 2.47524094581604, 1.1475468...  \n",
       "1  [1.1511355638504028, 1.5277800559997559, -2.45...  \n",
       "2  [12.836576461791992, 0.10034328699111938, 0.97...  \n",
       "3  [4.815604209899902, -0.47288405895233154, 0.81...  \n",
       "4  [2.9653778076171875, 3.8920321464538574, 1.200...  "
      ]
     },
     "execution_count": 151,
     "metadata": {},
     "output_type": "execute_result"
    }
   ],
   "source": [
    "train_data.head()"
   ]
  },
  {
   "cell_type": "code",
   "execution_count": 153,
   "metadata": {},
   "outputs": [],
   "source": [
    "#LSTM MODEL\n",
    "\n",
    "\n",
    "from tqdm import tqdm\n",
    "class net( nn.Module ):\n",
    "    \n",
    "    def __init__( self,lr_  ):\n",
    "        \n",
    "        super().__init__()\n",
    "#         self.model1 = nn.Sequential(nn.LSTM(1, 2,  ( 7,7), stride = 2 ,padding = (3,3)),\n",
    "#                                     nn.Tanh(),\n",
    "#                                     nn.Conv2d(2, 4,  (5, 5), stride = 2 ,padding  = (2,2)),\n",
    "#                                     nn.Tanh(),\n",
    "#                                     nn.Conv2d(4, 6 , (3, 3), stride = 2 ,padding = (1,1)),\n",
    "#                                     nn.Tanh(),\n",
    "#                                     nn.Conv2d(6, 8, (3, 3), stride = 2 ,padding = (1,1)),\n",
    "#                                     nn.Tanh(),\n",
    "#                                     nn.Conv2d(8, 10, (3, 3), stride = 2 ,padding = (1,1)),\n",
    "#                                     nn.Tanh(),\n",
    "#                                     nn.Softmax()\n",
    "#                        )\n",
    "        self.model2 = nn.Sequential(nn.Linear(50, 25),\n",
    "                                    nn.Tanh(),\n",
    "                                    nn.Linear(25, 15),\n",
    "                                    nn.Tanh(),\n",
    "                                    nn.Linear(15,10),\n",
    "                                    nn.Tanh(),\n",
    "                                    nn.Linear(10, 7),\n",
    "                                    nn.Tanh(),\n",
    "                                    nn.Linear( 7,5),\n",
    "                                    nn.Tanh(),\n",
    "                                    nn.Linear(5,2),\n",
    "                                    nn.Softmax(dim = 3))\n",
    "        \n",
    "        #self.optimizer1 =  torch.optim.Adam( self.model1.parameters(), lr = lr_ )\n",
    "        self.optimizer2 =  torch.optim.Adam( self.model2.parameters(), lr = lr_ )\n",
    "        \n",
    "        self.criterion = nn.MSELoss()\n",
    "        \n",
    "    def forward(self,data):\n",
    "        pass\n",
    "        \n",
    "    def train_model( self, train_loader, epochs):\n",
    "        self.train()\n",
    "        losses = []\n",
    "        correct0 = 0\n",
    "        for epoch in tqdm(range(epochs)):\n",
    "            \n",
    "            for ind, labels in train_loader:\n",
    "                #import pdb; pdb.set_trace()\n",
    "                \n",
    "                data = torch.autograd.Variable(torch.Tensor(train_data.vector_1d[train_data.id.isin(ind) ].to_list()).reshape([-1, 1, 1, 50]),\\\n",
    "                                            requires_grad = True)\n",
    "                labels = torch.autograd.Variable( torch.Tensor(labels), requires_grad = False)\n",
    "                #self.optimizer1.zero_grad()\n",
    "                self.optimizer2.zero_grad()\n",
    "\n",
    "                #out = self.model1( data.float() )\n",
    "                #out = out.reshape( -1, 1, 1,20 )\n",
    "                out = self.model2( data )\n",
    "                #_,label = torch.max( labels, dim = 1)\n",
    "                loss = self.criterion( out.squeeze().float(), labels)\n",
    "\n",
    "\n",
    "                loss.backward()\n",
    "                #self.optimizer1.step()\n",
    "                self.optimizer2.step()\n",
    "                \n",
    "                losses.append( loss.item()/ len( train_data ) )\n",
    "\n",
    "        return losses\n",
    "                    \n",
    "    def predict( self,dataloader ):\n",
    "        correct = 0\n",
    "        total = 0\n",
    "        wrong = {}\n",
    "        \n",
    "        with torch.no_grad():\n",
    "            for ind, label in dataloader:\n",
    "                \n",
    "                data = torch.Tensor(train_data.vector_1d[train_data.id.isin(ind) ].to_list()).reshape([-1, 1, 1, 50])\n",
    "                \n",
    "                #out1 = self.model1( data.float())\n",
    "                #out1 = out1.reshape( -1,1,1,20)\n",
    "                out2 = self.model2( data.float())\n",
    "                \n",
    "                _, out = torch.max( out2.squeeze().float(), dim = 1)\n",
    "                _,label = torch.max( label, dim =1 )\n",
    "                x = out.eq( label )\n",
    "                correct += x.sum()\n",
    "                \n",
    "                for i in range(len(x)):\n",
    "                    if x[i]== 0:\n",
    "                        wrong[label[i]] = data[i]\n",
    "                total += len( label)\n",
    "                \n",
    "            return correct,total, wrong\n",
    "        \n",
    "        \n",
    "        \n",
    "        "
   ]
  },
  {
   "cell_type": "code",
   "execution_count": 141,
   "metadata": {},
   "outputs": [],
   "source": [
    "dataset = torch.utils.data.TensorDataset(torch.Tensor(train_data['id']),torch.Tensor(np.array(train_data[['target', 'target_2']]))) \n",
    "train,valid = split_data( dataset, batchsize = 2000)"
   ]
  },
  {
   "cell_type": "code",
   "execution_count": 152,
   "metadata": {},
   "outputs": [
    {
     "data": {
      "text/plain": [
       "50"
      ]
     },
     "execution_count": 152,
     "metadata": {},
     "output_type": "execute_result"
    }
   ],
   "source": [
    "len(train_data.vector_1d.iloc[1])"
   ]
  },
  {
   "cell_type": "code",
   "execution_count": 156,
   "metadata": {},
   "outputs": [
    {
     "name": "stderr",
     "output_type": "stream",
     "text": [
      "100%|██████████| 3/3 [00:00<00:00,  8.62it/s]\n"
     ]
    },
    {
     "data": {
      "text/plain": [
       "[<matplotlib.lines.Line2D at 0x7f1d1d4245f8>]"
      ]
     },
     "execution_count": 156,
     "metadata": {},
     "output_type": "execute_result"
    },
    {
     "data": {
      "image/png": "[encoded data removed]",
      "text/plain": [
       "<Figure size 432x288 with 1 Axes>"
      ]
     },
     "metadata": {
      "needs_background": "light"
     },
     "output_type": "display_data"
    }
   ],
   "source": [
    "#batch size 50\n",
    "model = net( 0.01 )\n",
    "epochs = 3\n",
    "losses = model.train_model(train,epochs)\n",
    "plt.plot(losses)"
   ]
  },
  {
   "cell_type": "code",
   "execution_count": 157,
   "metadata": {},
   "outputs": [
    {
     "name": "stdout",
     "output_type": "stream",
     "text": [
      "0.5723400262713455\n",
      "0.5656742556917689\n"
     ]
    }
   ],
   "source": [
    "correct, total, wrong = model.predict( train)\n",
    "print(float(correct)/int(total))\n",
    "    \n",
    "correct, total, wrong = model.predict( valid)\n",
    "print(float(correct)/int(total))"
   ]
  },
  {
   "cell_type": "code",
   "execution_count": 207,
   "metadata": {},
   "outputs": [],
   "source": [
    "from sklearn.model_selection import train_test_split\n",
    "train_x, test_x, train_y, test_y = train_test_split( train_data.id, train_data['target'])"
   ]
  },
  {
   "cell_type": "code",
   "execution_count": null,
   "metadata": {},
   "outputs": [],
   "source": []
  },
  {
   "cell_type": "code",
   "execution_count": 208,
   "metadata": {},
   "outputs": [
    {
     "data": {
      "text/plain": [
       "Ridge(alpha=0, copy_X=True, fit_intercept=True, max_iter=None, normalize=False,\n",
       "      random_state=None, solver='auto', tol=0.001)"
      ]
     },
     "execution_count": 208,
     "metadata": {},
     "output_type": "execute_result"
    }
   ],
   "source": [
    "from sklearn.linear_model import LinearRegression, Ridge as ridge\n",
    "\n",
    "mdoel = ridge( 0)\n",
    "mdoel.fit( train_data[train_data.id.isin(train_x)]['vector_1d'].to_list(), train_y)"
   ]
  },
  {
   "cell_type": "code",
   "execution_count": 209,
   "metadata": {},
   "outputs": [
    {
     "data": {
      "text/plain": [
       "0.0302182968740298"
      ]
     },
     "execution_count": 209,
     "metadata": {},
     "output_type": "execute_result"
    }
   ],
   "source": [
    "from sklearn.metrics import average_precision_score, recall_score\n",
    "average_precision_score(np.floor(mdoel.predict(train_data[train_data.id.isin(test_x)]['vector_1d'].to_list())+0.5), test_y)"
   ]
  },
  {
   "cell_type": "code",
   "execution_count": 210,
   "metadata": {},
   "outputs": [
    {
     "data": {
      "text/plain": [
       "0.48148148148148145"
      ]
     },
     "execution_count": 210,
     "metadata": {},
     "output_type": "execute_result"
    }
   ],
   "source": [
    "recall_score(np.floor(mdoel.predict(train_data[train_data.id.isin(test_x)]['vector_1d'].to_list())+0.5), test_y)"
   ]
  },
  {
   "cell_type": "code",
   "execution_count": 211,
   "metadata": {},
   "outputs": [
    {
     "data": {
      "text/plain": [
       "0.6045168067226891"
      ]
     },
     "execution_count": 211,
     "metadata": {},
     "output_type": "execute_result"
    }
   ],
   "source": [
    "1+((np.floor(mdoel.predict(train_data[train_data.id.isin(test_x)]['vector_1d'].to_list())+0.5)- test_y).sum())/len(test_y)"
   ]
  },
  {
   "cell_type": "code",
   "execution_count": 212,
   "metadata": {},
   "outputs": [
    {
     "data": {
      "text/html": [
       "<div>\n",
       "<style scoped>\n",
       "    .dataframe tbody tr th:only-of-type {\n",
       "        vertical-align: middle;\n",
       "    }\n",
       "\n",
       "    .dataframe tbody tr th {\n",
       "        vertical-align: top;\n",
       "    }\n",
       "\n",
       "    .dataframe thead th {\n",
       "        text-align: right;\n",
       "    }\n",
       "</style>\n",
       "<table border=\"1\" class=\"dataframe\">\n",
       "  <thead>\n",
       "    <tr style=\"text-align: right;\">\n",
       "      <th></th>\n",
       "      <th>id</th>\n",
       "      <th>keyword</th>\n",
       "      <th>location</th>\n",
       "      <th>text</th>\n",
       "      <th>target</th>\n",
       "      <th>target_2</th>\n",
       "      <th>vector</th>\n",
       "      <th>vector_1d</th>\n",
       "    </tr>\n",
       "  </thead>\n",
       "  <tbody>\n",
       "    <tr>\n",
       "      <th>0</th>\n",
       "      <td>1</td>\n",
       "      <td>0</td>\n",
       "      <td>0</td>\n",
       "      <td>our deed be the reason of this earthquake may ...</td>\n",
       "      <td>1</td>\n",
       "      <td>0</td>\n",
       "      <td>[[0.3465999960899353, 0.40689000487327576, -0....</td>\n",
       "      <td>[5.67650842666626, 2.47524094581604, 1.1475468...</td>\n",
       "    </tr>\n",
       "    <tr>\n",
       "      <th>1</th>\n",
       "      <td>4</td>\n",
       "      <td>0</td>\n",
       "      <td>0</td>\n",
       "      <td>forest fire near la ronge sask canada</td>\n",
       "      <td>1</td>\n",
       "      <td>0</td>\n",
       "      <td>[[-0.003374400082975626, 0.48159000277519226, ...</td>\n",
       "      <td>[1.1511355638504028, 1.5277800559997559, -2.45...</td>\n",
       "    </tr>\n",
       "    <tr>\n",
       "      <th>2</th>\n",
       "      <td>5</td>\n",
       "      <td>0</td>\n",
       "      <td>0</td>\n",
       "      <td>all resident ask to shelter in place be be not...</td>\n",
       "      <td>1</td>\n",
       "      <td>0</td>\n",
       "      <td>[[0.19253000617027283, 0.10006000101566315, 0....</td>\n",
       "      <td>[12.836576461791992, 0.10034328699111938, 0.97...</td>\n",
       "    </tr>\n",
       "    <tr>\n",
       "      <th>3</th>\n",
       "      <td>6</td>\n",
       "      <td>0</td>\n",
       "      <td>0</td>\n",
       "      <td>people receive wildfire evacuation order in ca...</td>\n",
       "      <td>1</td>\n",
       "      <td>0</td>\n",
       "      <td>[[0.9528099894523621, -0.20608000457286835, 0....</td>\n",
       "      <td>[4.815604209899902, -0.47288405895233154, 0.81...</td>\n",
       "    </tr>\n",
       "    <tr>\n",
       "      <th>4</th>\n",
       "      <td>7</td>\n",
       "      <td>0</td>\n",
       "      <td>0</td>\n",
       "      <td>just get send this photo from ruby alaska a sm...</td>\n",
       "      <td>1</td>\n",
       "      <td>0</td>\n",
       "      <td>[[0.17698000371456146, 0.06522099673748016, 0....</td>\n",
       "      <td>[2.9653778076171875, 3.8920321464538574, 1.200...</td>\n",
       "    </tr>\n",
       "  </tbody>\n",
       "</table>\n",
       "</div>"
      ],
      "text/plain": [
       "   id keyword location                                               text  \\\n",
       "0   1       0        0  our deed be the reason of this earthquake may ...   \n",
       "1   4       0        0              forest fire near la ronge sask canada   \n",
       "2   5       0        0  all resident ask to shelter in place be be not...   \n",
       "3   6       0        0  people receive wildfire evacuation order in ca...   \n",
       "4   7       0        0  just get send this photo from ruby alaska a sm...   \n",
       "\n",
       "   target  target_2                                             vector  \\\n",
       "0       1         0  [[0.3465999960899353, 0.40689000487327576, -0....   \n",
       "1       1         0  [[-0.003374400082975626, 0.48159000277519226, ...   \n",
       "2       1         0  [[0.19253000617027283, 0.10006000101566315, 0....   \n",
       "3       1         0  [[0.9528099894523621, -0.20608000457286835, 0....   \n",
       "4       1         0  [[0.17698000371456146, 0.06522099673748016, 0....   \n",
       "\n",
       "                                           vector_1d  \n",
       "0  [5.67650842666626, 2.47524094581604, 1.1475468...  \n",
       "1  [1.1511355638504028, 1.5277800559997559, -2.45...  \n",
       "2  [12.836576461791992, 0.10034328699111938, 0.97...  \n",
       "3  [4.815604209899902, -0.47288405895233154, 0.81...  \n",
       "4  [2.9653778076171875, 3.8920321464538574, 1.200...  "
      ]
     },
     "execution_count": 212,
     "metadata": {},
     "output_type": "execute_result"
    }
   ],
   "source": [
    "train_data.head()"
   ]
  },
  {
   "cell_type": "code",
   "execution_count": 214,
   "metadata": {},
   "outputs": [],
   "source": [
    "from gensim.models import keyedvectors"
   ]
  },
  {
   "cell_type": "code",
   "execution_count": 223,
   "metadata": {},
   "outputs": [],
   "source": [
    "w2v = KeyedVectors.load_word2vec_format( '/home/sanchit/vector_embeddings/GoogleNews-vectors-negative300.bin', binary = True)"
   ]
  },
  {
   "cell_type": "code",
   "execution_count": null,
   "metadata": {},
   "outputs": [],
   "source": [
    "train_data['w2v'] = train_data.text.apply(splitter)\n",
    "train_data['w2v'] = train_data.vector.apply( torch.Tensor)\n",
    "train_data['w2v'] = train_data['w2v'].apply( lambda row: row.tolist())"
   ]
  }
 ],
 "metadata": {
  "kernelspec": {
   "display_name": "Python 3",
   "language": "python",
   "name": "python3"
  }
 },
 "nbformat": 4,
 "nbformat_minor": 2
}
